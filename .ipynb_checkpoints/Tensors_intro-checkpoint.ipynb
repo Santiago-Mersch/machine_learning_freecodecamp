{
 "cells": [
  {
   "cell_type": "code",
   "execution_count": 1,
   "id": "a576edb0",
   "metadata": {
    "scrolled": true
   },
   "outputs": [
    {
     "name": "stderr",
     "output_type": "stream",
     "text": [
      "2023-10-08 13:17:19.767214: I tensorflow/tsl/cuda/cudart_stub.cc:28] Could not find cuda drivers on your machine, GPU will not be used.\n",
      "2023-10-08 13:17:19.793036: I tensorflow/tsl/cuda/cudart_stub.cc:28] Could not find cuda drivers on your machine, GPU will not be used.\n",
      "2023-10-08 13:17:19.793762: I tensorflow/core/platform/cpu_feature_guard.cc:182] This TensorFlow binary is optimized to use available CPU instructions in performance-critical operations.\n",
      "To enable the following instructions: AVX2 FMA, in other operations, rebuild TensorFlow with the appropriate compiler flags.\n",
      "2023-10-08 13:17:20.405623: W tensorflow/compiler/tf2tensorrt/utils/py_utils.cc:38] TF-TRT Warning: Could not find TensorRT\n"
     ]
    }
   ],
   "source": [
    "import tensorflow as tf\n",
    "import numpy as np"
   ]
  },
  {
   "cell_type": "markdown",
   "id": "38593694",
   "metadata": {},
   "source": [
    "## Scalar / Rank 0 Tensors "
   ]
  },
  {
   "cell_type": "code",
   "execution_count": 9,
   "id": "113f65a0",
   "metadata": {},
   "outputs": [
    {
     "data": {
      "text/plain": [
       "<tf.Tensor: shape=(), dtype=int32, numpy=0>"
      ]
     },
     "execution_count": 9,
     "metadata": {},
     "output_type": "execute_result"
    }
   ],
   "source": [
    "string = tf.Variable(\"This is a string\", tf.string)\n",
    "integer = tf.Variable(12, tf.int16)\n",
    "floating = tf.Variable(12.3, tf.float16)\n",
    "\n",
    "tf.rank(string)\n",
    "\n"
   ]
  },
  {
   "cell_type": "markdown",
   "id": "e572e0b8",
   "metadata": {},
   "source": [
    "## Rank / Degrees of tensors\n",
    "\n"
   ]
  },
  {
   "cell_type": "code",
   "execution_count": 22,
   "id": "b33e612c",
   "metadata": {},
   "outputs": [
    {
     "data": {
      "text/plain": [
       "<tf.Tensor: shape=(), dtype=int32, numpy=1>"
      ]
     },
     "execution_count": 22,
     "metadata": {},
     "output_type": "execute_result"
    }
   ],
   "source": [
    "rank1_tensor = tf.Variable([\"Hi\"],tf.string)\n",
    "rank2_tensor = tf.Variable([[\"Hi\", \"How\",\"?\"],[\"Are\",\"You\",\"?\"]], tf.string)\n",
    "tf.rank(rank1_tensor)\n",
    "#tf.rank(rank2_tensor)"
   ]
  },
  {
   "cell_type": "markdown",
   "id": "279431ab",
   "metadata": {},
   "source": [
    "## Shape of tensors"
   ]
  },
  {
   "cell_type": "code",
   "execution_count": 23,
   "id": "edb36716",
   "metadata": {
    "scrolled": true
   },
   "outputs": [
    {
     "data": {
      "text/plain": [
       "TensorShape([2, 3])"
      ]
     },
     "execution_count": 23,
     "metadata": {},
     "output_type": "execute_result"
    }
   ],
   "source": [
    "rank2_tensor.shape"
   ]
  },
  {
   "cell_type": "markdown",
   "id": "472ed7de",
   "metadata": {},
   "source": [
    "## Changing tensors shape"
   ]
  },
  {
   "cell_type": "code",
   "execution_count": 32,
   "id": "8b9bac91",
   "metadata": {},
   "outputs": [
    {
     "name": "stdout",
     "output_type": "stream",
     "text": [
      "tf.Tensor(\n",
      "[[[1. 1. 1.]\n",
      "  [1. 1. 1.]]], shape=(1, 2, 3), dtype=float32)\n",
      "tf.Tensor(\n",
      "[[[1.]\n",
      "  [1.]\n",
      "  [1.]]\n",
      "\n",
      " [[1.]\n",
      "  [1.]\n",
      "  [1.]]], shape=(2, 3, 1), dtype=float32)\n",
      "tf.Tensor(\n",
      "[[[1.]\n",
      "  [1.]]\n",
      "\n",
      " [[1.]\n",
      "  [1.]]\n",
      "\n",
      " [[1.]\n",
      "  [1.]]], shape=(3, 2, 1), dtype=float32)\n"
     ]
    }
   ],
   "source": [
    "tensor1 = tf.ones([1,2,3])\n",
    "tensor2 = tf.reshape(tensor1, [2,3,1])\n",
    "tensor3 = tf.reshape(tensor1, [3,2,1])"
   ]
  },
  {
   "cell_type": "code",
   "execution_count": null,
   "id": "56b9c5c2",
   "metadata": {},
   "outputs": [],
   "source": [
    "print(tensor1)\n",
    "print(tensor2)\n",
    "print(tensor3)"
   ]
  }
 ],
 "metadata": {
  "kernelspec": {
   "display_name": "Python 3 (ipykernel)",
   "language": "python",
   "name": "python3"
  },
  "language_info": {
   "codemirror_mode": {
    "name": "ipython",
    "version": 3
   },
   "file_extension": ".py",
   "mimetype": "text/x-python",
   "name": "python",
   "nbconvert_exporter": "python",
   "pygments_lexer": "ipython3",
   "version": "3.8.18"
  }
 },
 "nbformat": 4,
 "nbformat_minor": 5
}
